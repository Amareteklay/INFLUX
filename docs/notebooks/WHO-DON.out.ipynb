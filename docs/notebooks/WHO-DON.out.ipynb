{
 "cells": [
  {
   "cell_type": "markdown",
   "metadata": {},
   "source": [
    "# Scraping data from WHO-DON website\n",
    "\n",
    "Luong Nguyen Thanh\n",
    "\n",
    "## Load necessary packages"
   ],
   "id": "bb3428de-94ec-481d-920b-2353a11bf155"
  },
  {
   "cell_type": "code",
   "execution_count": null,
   "metadata": {},
   "outputs": [],
   "source": [
    "pacman::p_load(\n",
    "  rio,\n",
    "  here,\n",
    "  httr,\n",
    "  jsonlite,\n",
    "  stringr,\n",
    "  tidyverse)\n"
   ],
   "id": "08f6050e-ccfa-4bef-9a15-cad81462b083"
  },
  {
   "cell_type": "markdown",
   "metadata": {},
   "source": [
    "## Write a function to get data from WHO-DON website\n",
    "\n",
    "Using method GET from `httr` package to get data from WHO-DON website. The function `get_who_news` will take a URL as input and return the data from the API. The function will return `NULL` if the request was unsuccessful.\n",
    "\n",
    "Status code = 200 means the connection is successful. The function will parse the JSON content and return the data.\n",
    "\n",
    "Next, we will initialize the variables and loop to fetch all pages. The function will check if there is a next page link and keep fetching until there is no next page link."
   ],
   "id": "9e41a5ea-77d7-4a89-8789-8dd02f907fdf"
  },
  {
   "cell_type": "code",
   "execution_count": null,
   "metadata": {},
   "outputs": [],
   "source": [
    "\n",
    "# Function to get news data from a specific URL\n",
    "get_who_news <- function(url) {\n",
    "  # Make the GET request to the API\n",
    "  response <- GET(url)\n",
    "  \n",
    "  # Check the status of the response\n",
    "  if (status_code(response) == 200) {\n",
    "    # Parse the JSON content\n",
    "    content <- content(response, \"text\")\n",
    "    data <- fromJSON(content)\n",
    "    return(data)\n",
    "  } else {\n",
    "    # Return NULL if the request was unsuccessful\n",
    "    return(NULL)\n",
    "  }\n",
    "}\n",
    "\n",
    "# Initialize variables\n",
    "base_url <- \"https://www.who.int/api/news/diseaseoutbreaknews\"\n",
    "all_news <- list()\n",
    "next_url <- base_url\n",
    "keep_fetching <- TRUE\n",
    "\n",
    "# Loop to fetch all pages\n",
    "while (keep_fetching) {\n",
    "  data <- get_who_news(next_url)\n",
    "  \n",
    "  if (!is.null(data) && \"value\" %in% names(data)) {\n",
    "    all_news <- c(all_news, data$value)\n",
    "    \n",
    "    # Check if there is a next page link\n",
    "    if (\"@odata.nextLink\" %in% names(data)) {\n",
    "      next_url <- data[[\"@odata.nextLink\"]]\n",
    "    } else {\n",
    "      keep_fetching <- FALSE\n",
    "    }\n",
    "  } else {\n",
    "    keep_fetching <- FALSE\n",
    "  }\n",
    "}\n"
   ],
   "id": "efb5b86c-5b06-43dd-91d4-0b67572a8d7c"
  },
  {
   "cell_type": "markdown",
   "metadata": {},
   "source": [
    "## Convert data from list to wide dataframe\n",
    "\n",
    "The data is currently stored as a nested list. We will convert this nested list to a wide data frame for further analysis. We will define a function `convert_to_df` that takes the nested list as input and returns a data frame.\n",
    "\n",
    "Some cleaning steps are performed to remove HTML tags from the text data.\n",
    "\n",
    "Finally, we will export the data frame to a CSV file for further analysis."
   ],
   "id": "616ce759-261c-4d5c-875d-66c564da7fc8"
  },
  {
   "cell_type": "code",
   "execution_count": null,
   "metadata": {},
   "outputs": [],
   "source": [
    "# Define a function to convert the nested list to a data frame\n",
    "convert_to_df <- function(news_list) {\n",
    "  # Initialize an empty list to hold data frames\n",
    "  df_list <- list()\n",
    "  \n",
    "  # Determine the segment length\n",
    "  segment_length <- 22\n",
    "  \n",
    "  # Iterate through the list in steps of segment_length\n",
    "  for (i in seq(1, length(news_list), by = segment_length)) {\n",
    "    # Extract the current segment\n",
    "    segment <- news_list[i:(i + segment_length - 1)]\n",
    "    \n",
    "    # Convert the segment to a data frame and add it to the list\n",
    "    df_list[[length(df_list) + 1]] <- as.data.frame(segment)\n",
    "  }\n",
    "  \n",
    "  # Combine all data frames into one\n",
    "  combined_df <- do.call(rbind, df_list)\n",
    "  return(combined_df)\n",
    "}\n",
    "\n",
    "# Function to remove HTML tags\n",
    "remove_html_tags <- function(text) {\n",
    "  return(str_replace_all(text, \"<[^>]*>\", \"\"))\n",
    "}\n",
    "\n",
    "all_news_df <- convert_to_df(all_news)\n",
    "\n",
    "\n",
    "all_news_df %>% \n",
    "  mutate(across(where(is.character), remove_html_tags)) %>%\n",
    "  arrange(desc(PublicationDate)) %>%\n",
    "  rio::export(here(\"data\", \"who_dons.csv\"))\n"
   ],
   "id": "39f0c5a7-16a5-4be6-bca5-ce94a66445c8"
  },
  {
   "cell_type": "markdown",
   "metadata": {},
   "source": [
    "## Preview data"
   ],
   "id": "1225d7aa-5efd-40eb-89f3-afa9f3aa4f34"
  },
  {
   "cell_type": "code",
   "execution_count": null,
   "metadata": {},
   "outputs": [],
   "source": [
    "all_news_df <- import(here(\"data\", \"who_dons.csv\"))\n"
   ],
   "id": "dc8ac027-e317-4803-85c4-777c62fb4e70"
  },
  {
   "cell_type": "code",
   "execution_count": null,
   "metadata": {},
   "outputs": [
    {
     "output_type": "stream",
     "name": "stdout",
     "text": [
      "Rows: 3,102\n",
      "Columns: 22\n",
      "$ Id                     <chr> \"8c8a4612-7d82-4e67-adb8-e1bc9aa69c4b\", \"696077…\n",
      "$ LastModified           <dttm> 2024-05-30 14:31:48, 2024-05-16 14:53:26, 2024…\n",
      "$ PublicationDate        <dttm> 2024-05-30 10:31:02, 2024-05-08 16:40:02, 2024…\n",
      "$ DateCreated            <dttm> 2024-05-30 10:31:02, 2024-05-08 16:40:02, 2024…\n",
      "$ IncludeInSitemap       <lgl> TRUE, TRUE, TRUE, TRUE, TRUE, TRUE, TRUE, TRUE,…\n",
      "$ SystemSourceKey        <lgl> NA, NA, NA, NA, NA, NA, NA, NA, NA, NA, NA, NA,…\n",
      "$ UrlName                <chr> \"2024-DON518\", \"2024-DON516\", \"2024-DON517\", \"2…\n",
      "$ ItemDefaultUrl         <chr> \"/2024-DON518\", \"/2024-DON516\", \"/2024-DON517\",…\n",
      "$ Response               <chr> \"The overall capacity for countries to respond …\n",
      "$ FurtherInformation     <chr> \"WHO Fact sheet: Dengue and severe dengue; http…\n",
      "$ Summary                <chr> \"As of 30 April 2024, over 7.6 million dengue c…\n",
      "$ PublicationDateAndTime <dttm> 2024-05-30 18:00:00, 2024-05-08 16:24:14, 2024…\n",
      "$ TitleSuffix            <chr> \"\", \"\", \"\", \"\", \"\", \"\", \"\", \"\", \"\", \"\", \"\", \"\",…\n",
      "$ UseOverrideTitle       <lgl> TRUE, TRUE, TRUE, TRUE, FALSE, FALSE, TRUE, TRU…\n",
      "$ Title                  <chr> \"Dengue - Global situation\", \"Middle East respi…\n",
      "$ Epidemiology           <chr> \"Dengue virus is transmitted to humans through …\n",
      "$ OverrideTitle          <chr> \"Dengue - Global situation\", \"Middle East respi…\n",
      "$ Advice                 <chr> \"Dengue is primarily an urban disease of the tr…\n",
      "$ Assessment             <chr> \"Dengue is a mosquito-borne viral disease cause…\n",
      "$ Overview               <chr> \"&nbsp;Global overviewCurrent situationAs of 30…\n",
      "$ DonId                  <chr> \"2024-DON518\", \"2024-DON516\", \"2024-DON517\", \"2…\n",
      "$ Provider               <chr> \"dynamicProvider372\", \"dynamicProvider372\", \"dy…"
     ]
    }
   ],
   "source": [
    "glimpse(all_news_df)\n"
   ],
   "id": "dc9dc255-24e2-4bd6-ab2b-23660eee7184"
  }
 ],
 "nbformat": 4,
 "nbformat_minor": 5,
 "metadata": {}
}
