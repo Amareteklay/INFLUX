{
 "cells": [
  {
   "cell_type": "markdown",
   "metadata": {},
   "source": [
    "# Retrieving data from WHO-DON website\n",
    "\n",
    "Luong Nguyen Thanh\n",
    "\n",
    "## Load necessary packages"
   ],
   "id": "7d33cffe-cedb-414c-bf8f-9bf34415ded7"
  },
  {
   "cell_type": "code",
   "execution_count": null,
   "metadata": {},
   "outputs": [],
   "source": [
    "pacman::p_load(\n",
    "  rio,\n",
    "  here,\n",
    "  httr,\n",
    "  jsonlite,\n",
    "  stringr,\n",
    "  tidyverse)"
   ],
   "id": "29d74013-c05d-45dd-9f2c-d671553f0bdc"
  },
  {
   "cell_type": "markdown",
   "metadata": {},
   "source": [
    "## Write a function to get data from WHO-DON website\n",
    "\n",
    "Using method GET from `httr` package to get data from WHO-DON website. The function `get_who_news` will take a URL as input and return the data from the API. The function will return `NULL` if the request was unsuccessful.\n",
    "\n",
    "Status code = 200 means the connection is successful. The function will parse the JSON content and return the data.\n",
    "\n",
    "Next, we will initialize the variables and loop to fetch all pages. The function will check if there is a next page link and keep fetching until there is no next page link."
   ],
   "id": "06d6a22a-0f10-4271-ad43-f9a4c2949529"
  },
  {
   "cell_type": "code",
   "execution_count": null,
   "metadata": {},
   "outputs": [],
   "source": [
    "#| message: FALSE\n",
    "#| warning: FALSE\n",
    "#| eval: FALSE\n",
    "\n",
    "# Function to get news data from a specific URL\n",
    "get_who_news <- function(url) {\n",
    "  # Make the GET request to the API\n",
    "  response <- GET(url)\n",
    "  \n",
    "  # Check the status of the response\n",
    "  if (status_code(response) == 200) {\n",
    "    # Parse the JSON content\n",
    "    content <- content(response, \"text\")\n",
    "    data <- fromJSON(content)\n",
    "    return(data)\n",
    "  } else {\n",
    "    # Return NULL if the request was unsuccessful\n",
    "    return(NULL)\n",
    "  }\n",
    "}\n",
    "\n",
    "# Initialize variables\n",
    "base_url <- \"https://www.who.int/api/news/diseaseoutbreaknews\"\n",
    "all_news <- list()\n",
    "next_url <- base_url\n",
    "keep_fetching <- TRUE\n",
    "\n",
    "# Loop to fetch all pages\n",
    "while (keep_fetching) {\n",
    "  data <- get_who_news(next_url)\n",
    "  \n",
    "  if (!is.null(data) && \"value\" %in% names(data)) {\n",
    "    all_news <- c(all_news, data$value)\n",
    "    \n",
    "    # Check if there is a next page link\n",
    "    if (\"@odata.nextLink\" %in% names(data)) {\n",
    "      next_url <- data[[\"@odata.nextLink\"]]\n",
    "    } else {\n",
    "      keep_fetching <- FALSE\n",
    "    }\n",
    "  } else {\n",
    "    keep_fetching <- FALSE\n",
    "  }\n",
    "}"
   ],
   "id": "9d0cadb1-5f00-41de-9155-aa8cd57a518e"
  },
  {
   "cell_type": "markdown",
   "metadata": {},
   "source": [
    "## Convert data from list to wide dataframe\n",
    "\n",
    "The data is currently stored as a nested list. We will convert this nested list to a wide data frame for further analysis. We will define a function `convert_to_df` that takes the nested list as input and returns a data frame.\n",
    "\n",
    "Some cleaning steps are performed to remove HTML tags from the text data.\n",
    "\n",
    "Finally, we will export the data frame to a CSV file for further analysis."
   ],
   "id": "094c95ed-ea82-472b-a41f-a5558594ea4e"
  },
  {
   "cell_type": "code",
   "execution_count": null,
   "metadata": {},
   "outputs": [],
   "source": [
    "#| eval: FALSE\n",
    "# Define a function to convert the nested list to a data frame\n",
    "convert_to_df <- function(news_list) {\n",
    "  # Initialize an empty list to hold data frames\n",
    "  df_list <- list()\n",
    "  \n",
    "  # Determine the segment length\n",
    "  segment_length <- 22\n",
    "  \n",
    "  # Iterate through the list in steps of segment_length\n",
    "  for (i in seq(1, length(news_list), by = segment_length)) {\n",
    "    # Extract the current segment\n",
    "    segment <- news_list[i:(i + segment_length - 1)]\n",
    "    \n",
    "    # Convert the segment to a data frame and add it to the list\n",
    "    df_list[[length(df_list) + 1]] <- as.data.frame(segment)\n",
    "  }\n",
    "  \n",
    "  # Combine all data frames into one\n",
    "  combined_df <- do.call(rbind, df_list)\n",
    "  return(combined_df)\n",
    "}\n",
    "\n",
    "# Function to remove HTML tags\n",
    "remove_html_tags <- function(text) {\n",
    "  return(str_replace_all(text, \"<[^>]*>\", \"\"))\n",
    "}\n",
    "\n",
    "all_news_df <- convert_to_df(all_news)\n",
    "\n",
    "\n",
    "all_news_df %>% \n",
    "  mutate(across(where(is.character), remove_html_tags)) %>%\n",
    "  arrange(desc(PublicationDate)) %>%\n",
    "  rio::export(here(\"data\", \"who_dons.csv\"))"
   ],
   "id": "9bad993a-da08-4dc2-b3ab-c8148d2d2fa2"
  },
  {
   "cell_type": "markdown",
   "metadata": {},
   "source": [
    "## Preview data"
   ],
   "id": "1238da84-14c9-4f94-aba7-66a71ecb2ada"
  },
  {
   "cell_type": "code",
   "execution_count": null,
   "metadata": {},
   "outputs": [],
   "source": [
    "#| echo: FALSE\n",
    "all_news_df <- import(here(\"data\", \"who_dons.csv\"))"
   ],
   "id": "ee7494ee-8b87-4f00-bd03-17bf06db5d97"
  },
  {
   "cell_type": "code",
   "execution_count": null,
   "metadata": {},
   "outputs": [
    {
     "output_type": "stream",
     "name": "stdout",
     "text": [
      "Rows: 3,102\n",
      "Columns: 22\n",
      "$ Id                     <chr> \"8c8a4612-7d82-4e67-adb8-e1bc9aa69c4b\", \"696077…\n",
      "$ LastModified           <dttm> 2024-05-30 14:31:48, 2024-05-16 14:53:26, 2024…\n",
      "$ PublicationDate        <dttm> 2024-05-30 10:31:02, 2024-05-08 16:40:02, 2024…\n",
      "$ DateCreated            <dttm> 2024-05-30 10:31:02, 2024-05-08 16:40:02, 2024…\n",
      "$ IncludeInSitemap       <lgl> TRUE, TRUE, TRUE, TRUE, TRUE, TRUE, TRUE, TRUE,…\n",
      "$ SystemSourceKey        <lgl> NA, NA, NA, NA, NA, NA, NA, NA, NA, NA, NA, NA,…\n",
      "$ UrlName                <chr> \"2024-DON518\", \"2024-DON516\", \"2024-DON517\", \"2…\n",
      "$ ItemDefaultUrl         <chr> \"/2024-DON518\", \"/2024-DON516\", \"/2024-DON517\",…\n",
      "$ Response               <chr> \"The overall capacity for countries to respond …\n",
      "$ FurtherInformation     <chr> \"WHO Fact sheet: Dengue and severe dengue; http…\n",
      "$ Summary                <chr> \"As of 30 April 2024, over 7.6 million dengue c…\n",
      "$ PublicationDateAndTime <dttm> 2024-05-30 18:00:00, 2024-05-08 16:24:14, 2024…\n",
      "$ TitleSuffix            <chr> \"\", \"\", \"\", \"\", \"\", \"\", \"\", \"\", \"\", \"\", \"\", \"\",…\n",
      "$ UseOverrideTitle       <lgl> TRUE, TRUE, TRUE, TRUE, FALSE, FALSE, TRUE, TRU…\n",
      "$ Title                  <chr> \"Dengue - Global situation\", \"Middle East respi…\n",
      "$ Epidemiology           <chr> \"Dengue virus is transmitted to humans through …\n",
      "$ OverrideTitle          <chr> \"Dengue - Global situation\", \"Middle East respi…\n",
      "$ Advice                 <chr> \"Dengue is primarily an urban disease of the tr…\n",
      "$ Assessment             <chr> \"Dengue is a mosquito-borne viral disease cause…\n",
      "$ Overview               <chr> \"&nbsp;Global overviewCurrent situationAs of 30…\n",
      "$ DonId                  <chr> \"2024-DON518\", \"2024-DON516\", \"2024-DON517\", \"2…\n",
      "$ Provider               <chr> \"dynamicProvider372\", \"dynamicProvider372\", \"dy…"
     ]
    }
   ],
   "source": [
    "glimpse(all_news_df)"
   ],
   "id": "1add2158-2ddb-40de-b6cb-1a1a81797c0d"
  }
 ],
 "nbformat": 4,
 "nbformat_minor": 5,
 "metadata": {}
}
